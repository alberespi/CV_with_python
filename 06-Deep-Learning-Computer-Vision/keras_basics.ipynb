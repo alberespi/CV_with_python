{
 "cells": [
  {
   "cell_type": "code",
   "execution_count": 1,
   "metadata": {},
   "outputs": [],
   "source": [
    "import numpy as np\n",
    "from numpy import genfromtxt"
   ]
  },
  {
   "cell_type": "code",
   "execution_count": 2,
   "metadata": {},
   "outputs": [],
   "source": [
    "data = genfromtxt('../DATA/bank_note_data.txt', delimiter=',')"
   ]
  },
  {
   "cell_type": "code",
   "execution_count": 3,
   "metadata": {},
   "outputs": [
    {
     "data": {
      "text/plain": [
       "array([[  3.6216 ,   8.6661 ,  -2.8073 ,  -0.44699,   0.     ],\n",
       "       [  4.5459 ,   8.1674 ,  -2.4586 ,  -1.4621 ,   0.     ],\n",
       "       [  3.866  ,  -2.6383 ,   1.9242 ,   0.10645,   0.     ],\n",
       "       ...,\n",
       "       [ -3.7503 , -13.4586 ,  17.5932 ,  -2.7771 ,   1.     ],\n",
       "       [ -3.5637 ,  -8.3827 ,  12.393  ,  -1.2823 ,   1.     ],\n",
       "       [ -2.5419 ,  -0.65804,   2.6842 ,   1.1952 ,   1.     ]])"
      ]
     },
     "execution_count": 3,
     "metadata": {},
     "output_type": "execute_result"
    }
   ],
   "source": [
    "data"
   ]
  },
  {
   "cell_type": "code",
   "execution_count": 4,
   "metadata": {},
   "outputs": [],
   "source": [
    "labels = data[:,-1]"
   ]
  },
  {
   "cell_type": "code",
   "execution_count": 5,
   "metadata": {},
   "outputs": [
    {
     "data": {
      "text/plain": [
       "array([0., 0., 0., ..., 1., 1., 1.])"
      ]
     },
     "execution_count": 5,
     "metadata": {},
     "output_type": "execute_result"
    }
   ],
   "source": [
    "labels"
   ]
  },
  {
   "cell_type": "code",
   "execution_count": 6,
   "metadata": {},
   "outputs": [],
   "source": [
    "features = data[:,0:-1]"
   ]
  },
  {
   "cell_type": "code",
   "execution_count": 7,
   "metadata": {},
   "outputs": [
    {
     "data": {
      "text/plain": [
       "array([[  3.6216 ,   8.6661 ,  -2.8073 ,  -0.44699],\n",
       "       [  4.5459 ,   8.1674 ,  -2.4586 ,  -1.4621 ],\n",
       "       [  3.866  ,  -2.6383 ,   1.9242 ,   0.10645],\n",
       "       ...,\n",
       "       [ -3.7503 , -13.4586 ,  17.5932 ,  -2.7771 ],\n",
       "       [ -3.5637 ,  -8.3827 ,  12.393  ,  -1.2823 ],\n",
       "       [ -2.5419 ,  -0.65804,   2.6842 ,   1.1952 ]])"
      ]
     },
     "execution_count": 7,
     "metadata": {},
     "output_type": "execute_result"
    }
   ],
   "source": [
    "features"
   ]
  },
  {
   "cell_type": "code",
   "execution_count": 8,
   "metadata": {},
   "outputs": [],
   "source": [
    "X = features\n",
    "y = labels"
   ]
  },
  {
   "cell_type": "code",
   "execution_count": 9,
   "metadata": {},
   "outputs": [],
   "source": [
    "from sklearn.model_selection import train_test_split"
   ]
  },
  {
   "cell_type": "code",
   "execution_count": 10,
   "metadata": {},
   "outputs": [],
   "source": [
    "X_train, X_test, y_train, y_test = train_test_split(X, y, test_size=0.3, random_state=42)"
   ]
  },
  {
   "cell_type": "code",
   "execution_count": 11,
   "metadata": {},
   "outputs": [
    {
     "data": {
      "text/plain": [
       "960"
      ]
     },
     "execution_count": 11,
     "metadata": {},
     "output_type": "execute_result"
    }
   ],
   "source": [
    "len(X_train)"
   ]
  },
  {
   "cell_type": "code",
   "execution_count": 12,
   "metadata": {},
   "outputs": [
    {
     "data": {
      "text/plain": [
       "1372"
      ]
     },
     "execution_count": 12,
     "metadata": {},
     "output_type": "execute_result"
    }
   ],
   "source": [
    "len(X)"
   ]
  },
  {
   "cell_type": "code",
   "execution_count": 13,
   "metadata": {},
   "outputs": [],
   "source": [
    "from sklearn.preprocessing import MinMaxScaler"
   ]
  },
  {
   "cell_type": "code",
   "execution_count": 14,
   "metadata": {},
   "outputs": [],
   "source": [
    "scaler = MinMaxScaler()"
   ]
  },
  {
   "cell_type": "code",
   "execution_count": 15,
   "metadata": {},
   "outputs": [],
   "source": [
    "X_train_scaled = scaler.fit_transform(X_train)"
   ]
  },
  {
   "cell_type": "code",
   "execution_count": 16,
   "metadata": {},
   "outputs": [],
   "source": [
    "X_test_scaled = scaler.fit_transform(X_test)"
   ]
  },
  {
   "cell_type": "code",
   "execution_count": 17,
   "metadata": {},
   "outputs": [
    {
     "data": {
      "text/plain": [
       "1.0000000000000002"
      ]
     },
     "execution_count": 17,
     "metadata": {},
     "output_type": "execute_result"
    }
   ],
   "source": [
    "X_train_scaled.max()"
   ]
  },
  {
   "cell_type": "code",
   "execution_count": 20,
   "metadata": {},
   "outputs": [],
   "source": [
    "from keras.models import Sequential\n",
    "from keras.layers import Dense"
   ]
  },
  {
   "cell_type": "code",
   "execution_count": 21,
   "metadata": {},
   "outputs": [
    {
     "name": "stderr",
     "output_type": "stream",
     "text": [
      "2024-09-06 13:05:51.871600: I tensorflow/compiler/xla/stream_executor/cuda/cuda_gpu_executor.cc:981] could not open file to read NUMA node: /sys/bus/pci/devices/0000:01:00.0/numa_node\n",
      "Your kernel may have been built without NUMA support.\n",
      "2024-09-06 13:05:51.871796: W tensorflow/core/common_runtime/gpu/gpu_device.cc:1960] Cannot dlopen some GPU libraries. Please make sure the missing libraries mentioned above are installed properly if you would like to use GPU. Follow the guide at https://www.tensorflow.org/install/gpu for how to download and setup the required libraries for your platform.\n",
      "Skipping registering GPU devices...\n"
     ]
    }
   ],
   "source": [
    "model = Sequential()\n",
    "\n",
    "model.add(Dense(4, activation='relu'))\n",
    "\n",
    "model.add(Dense(8,activation='relu'))\n",
    "\n",
    "model.add(Dense(1,activation='sigmoid'))"
   ]
  },
  {
   "cell_type": "code",
   "execution_count": 22,
   "metadata": {},
   "outputs": [],
   "source": [
    "model.compile(loss='binary_crossentropy', optimizer='adam', metrics=['accuracy'])"
   ]
  },
  {
   "cell_type": "code",
   "execution_count": 23,
   "metadata": {},
   "outputs": [
    {
     "name": "stdout",
     "output_type": "stream",
     "text": [
      "Epoch 1/50\n",
      "30/30 - 0s - loss: 0.6809 - accuracy: 0.5552 - 302ms/epoch - 10ms/step\n",
      "Epoch 2/50\n",
      "30/30 - 0s - loss: 0.6779 - accuracy: 0.5552 - 26ms/epoch - 856us/step\n",
      "Epoch 3/50\n",
      "30/30 - 0s - loss: 0.6748 - accuracy: 0.5552 - 24ms/epoch - 803us/step\n",
      "Epoch 4/50\n",
      "30/30 - 0s - loss: 0.6715 - accuracy: 0.5552 - 18ms/epoch - 594us/step\n",
      "Epoch 5/50\n",
      "30/30 - 0s - loss: 0.6677 - accuracy: 0.5552 - 18ms/epoch - 599us/step\n",
      "Epoch 6/50\n",
      "30/30 - 0s - loss: 0.6632 - accuracy: 0.5552 - 19ms/epoch - 627us/step\n",
      "Epoch 7/50\n",
      "30/30 - 0s - loss: 0.6578 - accuracy: 0.5552 - 19ms/epoch - 617us/step\n",
      "Epoch 8/50\n",
      "30/30 - 0s - loss: 0.6510 - accuracy: 0.5583 - 18ms/epoch - 594us/step\n",
      "Epoch 9/50\n",
      "30/30 - 0s - loss: 0.6409 - accuracy: 0.5740 - 23ms/epoch - 769us/step\n",
      "Epoch 10/50\n",
      "30/30 - 0s - loss: 0.6304 - accuracy: 0.6062 - 22ms/epoch - 735us/step\n",
      "Epoch 11/50\n",
      "30/30 - 0s - loss: 0.6178 - accuracy: 0.6583 - 21ms/epoch - 690us/step\n",
      "Epoch 12/50\n",
      "30/30 - 0s - loss: 0.5978 - accuracy: 0.6833 - 21ms/epoch - 714us/step\n",
      "Epoch 13/50\n",
      "30/30 - 0s - loss: 0.5657 - accuracy: 0.7156 - 19ms/epoch - 619us/step\n",
      "Epoch 14/50\n",
      "30/30 - 0s - loss: 0.5317 - accuracy: 0.7552 - 19ms/epoch - 624us/step\n",
      "Epoch 15/50\n",
      "30/30 - 0s - loss: 0.4986 - accuracy: 0.7688 - 18ms/epoch - 589us/step\n",
      "Epoch 16/50\n",
      "30/30 - 0s - loss: 0.4709 - accuracy: 0.7906 - 17ms/epoch - 569us/step\n",
      "Epoch 17/50\n",
      "30/30 - 0s - loss: 0.4475 - accuracy: 0.8094 - 18ms/epoch - 586us/step\n",
      "Epoch 18/50\n",
      "30/30 - 0s - loss: 0.4243 - accuracy: 0.8302 - 17ms/epoch - 563us/step\n",
      "Epoch 19/50\n",
      "30/30 - 0s - loss: 0.4022 - accuracy: 0.8479 - 17ms/epoch - 565us/step\n",
      "Epoch 20/50\n",
      "30/30 - 0s - loss: 0.3820 - accuracy: 0.8562 - 17ms/epoch - 566us/step\n",
      "Epoch 21/50\n",
      "30/30 - 0s - loss: 0.3635 - accuracy: 0.8792 - 16ms/epoch - 546us/step\n",
      "Epoch 22/50\n",
      "30/30 - 0s - loss: 0.3456 - accuracy: 0.8823 - 17ms/epoch - 554us/step\n",
      "Epoch 23/50\n",
      "30/30 - 0s - loss: 0.3277 - accuracy: 0.8927 - 17ms/epoch - 582us/step\n",
      "Epoch 24/50\n",
      "30/30 - 0s - loss: 0.3121 - accuracy: 0.8938 - 17ms/epoch - 556us/step\n",
      "Epoch 25/50\n",
      "30/30 - 0s - loss: 0.2961 - accuracy: 0.9062 - 17ms/epoch - 561us/step\n",
      "Epoch 26/50\n",
      "30/30 - 0s - loss: 0.2818 - accuracy: 0.9187 - 17ms/epoch - 561us/step\n",
      "Epoch 27/50\n",
      "30/30 - 0s - loss: 0.2678 - accuracy: 0.9198 - 16ms/epoch - 542us/step\n",
      "Epoch 28/50\n",
      "30/30 - 0s - loss: 0.2551 - accuracy: 0.9219 - 17ms/epoch - 563us/step\n",
      "Epoch 29/50\n",
      "30/30 - 0s - loss: 0.2430 - accuracy: 0.9302 - 17ms/epoch - 579us/step\n",
      "Epoch 30/50\n",
      "30/30 - 0s - loss: 0.2305 - accuracy: 0.9396 - 17ms/epoch - 562us/step\n",
      "Epoch 31/50\n",
      "30/30 - 0s - loss: 0.2202 - accuracy: 0.9312 - 17ms/epoch - 569us/step\n",
      "Epoch 32/50\n",
      "30/30 - 0s - loss: 0.2099 - accuracy: 0.9406 - 16ms/epoch - 546us/step\n",
      "Epoch 33/50\n",
      "30/30 - 0s - loss: 0.2005 - accuracy: 0.9396 - 18ms/epoch - 607us/step\n",
      "Epoch 34/50\n",
      "30/30 - 0s - loss: 0.1918 - accuracy: 0.9458 - 17ms/epoch - 558us/step\n",
      "Epoch 35/50\n",
      "30/30 - 0s - loss: 0.1847 - accuracy: 0.9469 - 17ms/epoch - 552us/step\n",
      "Epoch 36/50\n",
      "30/30 - 0s - loss: 0.1768 - accuracy: 0.9500 - 21ms/epoch - 716us/step\n",
      "Epoch 37/50\n",
      "30/30 - 0s - loss: 0.1690 - accuracy: 0.9521 - 23ms/epoch - 754us/step\n",
      "Epoch 38/50\n",
      "30/30 - 0s - loss: 0.1628 - accuracy: 0.9531 - 18ms/epoch - 611us/step\n",
      "Epoch 39/50\n",
      "30/30 - 0s - loss: 0.1568 - accuracy: 0.9563 - 18ms/epoch - 594us/step\n",
      "Epoch 40/50\n",
      "30/30 - 0s - loss: 0.1511 - accuracy: 0.9521 - 17ms/epoch - 577us/step\n",
      "Epoch 41/50\n",
      "30/30 - 0s - loss: 0.1459 - accuracy: 0.9542 - 17ms/epoch - 563us/step\n",
      "Epoch 42/50\n",
      "30/30 - 0s - loss: 0.1403 - accuracy: 0.9563 - 17ms/epoch - 573us/step\n",
      "Epoch 43/50\n",
      "30/30 - 0s - loss: 0.1355 - accuracy: 0.9594 - 16ms/epoch - 541us/step\n",
      "Epoch 44/50\n",
      "30/30 - 0s - loss: 0.1314 - accuracy: 0.9573 - 17ms/epoch - 562us/step\n",
      "Epoch 45/50\n",
      "30/30 - 0s - loss: 0.1275 - accuracy: 0.9573 - 17ms/epoch - 568us/step\n",
      "Epoch 46/50\n",
      "30/30 - 0s - loss: 0.1236 - accuracy: 0.9625 - 17ms/epoch - 578us/step\n",
      "Epoch 47/50\n",
      "30/30 - 0s - loss: 0.1205 - accuracy: 0.9615 - 17ms/epoch - 554us/step\n",
      "Epoch 48/50\n",
      "30/30 - 0s - loss: 0.1162 - accuracy: 0.9594 - 17ms/epoch - 569us/step\n",
      "Epoch 49/50\n",
      "30/30 - 0s - loss: 0.1134 - accuracy: 0.9583 - 17ms/epoch - 574us/step\n",
      "Epoch 50/50\n",
      "30/30 - 0s - loss: 0.1107 - accuracy: 0.9604 - 17ms/epoch - 569us/step\n"
     ]
    },
    {
     "data": {
      "text/plain": [
       "<keras.src.callbacks.History at 0x7fb45c15f640>"
      ]
     },
     "execution_count": 23,
     "metadata": {},
     "output_type": "execute_result"
    }
   ],
   "source": [
    "model.fit(X_train_scaled, y_train, epochs=50, verbose=2)"
   ]
  },
  {
   "cell_type": "code",
   "execution_count": 39,
   "metadata": {},
   "outputs": [],
   "source": [
    "# score = model.evaluate(X_train_scaled, X_test_scaled)"
   ]
  },
  {
   "cell_type": "code",
   "execution_count": 27,
   "metadata": {},
   "outputs": [],
   "source": [
    "from sklearn.metrics import confusion_matrix, classification_report"
   ]
  },
  {
   "cell_type": "code",
   "execution_count": null,
   "metadata": {},
   "outputs": [],
   "source": []
  }
 ],
 "metadata": {
  "kernelspec": {
   "display_name": ".venv",
   "language": "python",
   "name": "python3"
  },
  "language_info": {
   "codemirror_mode": {
    "name": "ipython",
    "version": 3
   },
   "file_extension": ".py",
   "mimetype": "text/x-python",
   "name": "python",
   "nbconvert_exporter": "python",
   "pygments_lexer": "ipython3",
   "version": "3.8.10"
  }
 },
 "nbformat": 4,
 "nbformat_minor": 2
}
