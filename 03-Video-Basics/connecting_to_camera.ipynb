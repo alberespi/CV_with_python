{
 "cells": [
  {
   "cell_type": "code",
   "execution_count": 10,
   "metadata": {},
   "outputs": [
    {
     "name": "stderr",
     "output_type": "stream",
     "text": [
      "[ WARN:0@610.994] global cap_v4l.cpp:999 open VIDEOIO(V4L2:/dev/video4): can't open camera by index\n",
      "[ERROR:0@610.994] global obsensor_uvc_stream_channel.cpp:158 getStreamChannelGroup Camera index out of range\n"
     ]
    }
   ],
   "source": [
    "import cv2\n",
    "\n",
    "video = cv2.VideoCapture(4)\n",
    "\n",
    "if video.isOpened():\n",
    "    while True:\n",
    "        check, frame = video.read()\n",
    "        if check:\n",
    "            cv2.imshow('Color Frame', frame)\n",
    "            key = cv2.waitKey(50)\n",
    "            if key == ord('q'):\n",
    "                break\n",
    "            else:\n",
    "                print('Frame not available')\n",
    "                print(video.isOpened())\n",
    "cv2.destroyAllWindows()\n",
    "video.release()"
   ]
  },
  {
   "cell_type": "code",
   "execution_count": null,
   "metadata": {},
   "outputs": [],
   "source": []
  }
 ],
 "metadata": {
  "kernelspec": {
   "display_name": ".venv",
   "language": "python",
   "name": "python3"
  },
  "language_info": {
   "codemirror_mode": {
    "name": "ipython",
    "version": 3
   },
   "file_extension": ".py",
   "mimetype": "text/x-python",
   "name": "python",
   "nbconvert_exporter": "python",
   "pygments_lexer": "ipython3",
   "version": "3.8.10"
  }
 },
 "nbformat": 4,
 "nbformat_minor": 2
}
